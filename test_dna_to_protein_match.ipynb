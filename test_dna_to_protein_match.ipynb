{
 "cells": [
  {
   "cell_type": "code",
   "execution_count": 14,
   "metadata": {},
   "outputs": [],
   "source": [
    "from random import choice\n",
    "from csv import reader\n",
    "\n"
   ]
  },
  {
   "cell_type": "code",
   "execution_count": 26,
   "metadata": {},
   "outputs": [],
   "source": [
    "def dnaseq(length): ####generate random dna sequence length for trial run \n",
    "\n",
    "       DNA=\"\"\n",
    "       for count in range(length):\n",
    "          DNA+=choice(\"CGTA\")\n",
    "       return DNA"
   ]
  },
  {
   "cell_type": "code",
   "execution_count": 29,
   "metadata": {},
   "outputs": [],
   "source": [
    "a = list(dnaseq(50))\n"
   ]
  },
  {
   "cell_type": "code",
   "execution_count": 31,
   "metadata": {},
   "outputs": [
    {
     "name": "stdout",
     "output_type": "stream",
     "text": [
      "['TGGAATTTGCGTGGAACTCGCCGGTACTATATTCTGCCGGCTCACGATTTGATAGGCATTCATAAAGTGTCCATCCTGAAGGACCTATGAGCATGCTTTG', 'AGTCCGGGTCTCACGAAACTATCAAAGAAACCCAGAACATGGTTAACCCACTGTGCACCTCCTGGTCCTGGCTCTGAATAAGCTTGGGGCCATTTAAGGT', 'TAAGGGAGGGGACGAGTGCAGACAATGATGGCGGTACTCTACTGCCCATGGAGCTACGGTTTCGCTTAACCGAGCATTGCCGTCAACCTTACGAGGTAAT', 'CAAACAGGATATGAGATTAAATTCTTTAACCCTGGGTTATGACTAGCTCCATTTACATCAAGCAAAGCAATAGGTGAGCCTCGAACTAGTCGCGGACTCC', 'GCAAGTGTCTACCCACACCAATGGACTCCCAGCCCGAGATGGTTTCATTGTAGAGCCTGCGCTTGGTTCTCATCGTGATGGCCAGGAATAGACAGGAATA', 'ATCACGATTCTTTGTGTTCGACATAGCGGTCAACGCAACCCTGCCGTCGCGAGTGTCCAAATGGCTTGGCCGTTGGATTCTCTAAAACAAGTAAACTGTT', 'CGGCTGGTCGCGGCTTAGACTACGTACCATAAGGCCGCATAGACAACGTAAGCCCGCTTCCCTCACGTGTCTGTCAGATTACGGGATGCTTTGTGAGGAC', 'AACACATCATACTGCTAGTGGCTCGATACTACCGGTCACATGTGTATGCCATGTTATCGCGCGCCAAATGCTATCCGCAGAGTTTTCATACTTTCGGGAT', 'TCACTAAGCGCGAGTAAGTTTACCCCTTGGTTGTATCATCATAGTTTCCTCCTTACGCAAAGGTTATAGTCACTAGCTTGGGGAGGTGTCTATACACGTG', 'GCTGTAACTAGGATGCGATTTGTGGGAGCCGGAAAGGGCAGAAGAAACAGCTAACCGAAGCATTTCTGGAGAAACAACTATAGTCGACTTAGCGCACACC', 'CTTTGAATTGAGTACTATACAGTGGCTGCTGCATAGCTCTTTTGGGGACAGCAGGTATAAGGTTGGCAAGAGAACCGGATACTTTCACGATTGCTTCGAA', 'CGATTCGAACACCTGCTCCTGACTCATAACTCCGGCTAGGGAGCTCAGGTGGACGACGTGGACGAAGATCCGCGGCTCTCCAAGCTCCGTCCACATGTGT', 'TCCCATCGTGTCCTCGTCGCCATACGCGATGCACTAAGATAGCGAAACACTTCTTCCGCCGCCCGGAGCCACCCCCAAAGCTTCAATGCCTGGGGGGTGC', 'ATTGTTGGGCTCGTCAAATCTAGGCTACTATCACCACATCTTGTGGATATTGCCGCGCTTTTGACTTGGCGGACTGGGCTAAGAGTAATAGTGCACGTTT', 'GGCAATAGCCGGCTGCGCCGTAATACTCCAAAATATGCCTAGGAGTCCGCCCCGAACCCTGTATTTAGACACGCCCCAAGACCTTCGCTGGTACCACTTG', 'TCTGGTTTCATCACGAGAAACATTCGTAAGCAGAGTTAAAATCATTGCTCCGCTATGCGTGGCCAGTCACTCTCTGGCGCTGAAAATACACAAGTGATGC', 'CTTTTGGGCCGATGACGAATCCTTCAGTATACCTTCGTACATTTGCGGGGTCAGCTGCACACAGGATGCCGTGCCCCGGCGGGGGGGCTATATGTAGCGT', 'CAGCGCTCCGCAGAGTGGCATCGACAGATTTTGACAAGACCGTTTTTTACCAAAAGACGACAGCAAATGCGCCGTCCCTTGACGCATTGCTGTTGTTAGT', 'TTACACGACAAGGACGGGCACTGAGTTAATTGCTGGGGGACAGTGTACAGGCGGCATTTAGGAGTATACGCGTCAGTAGACGCTTTCTACAACCCCTTCA', 'CATAAGATGGCCATAGGCGTCTTCCTAGCAGTTGTGCTCAGTAAAGGAAGTCCTAAGAAACATACCCTTCAAATTCTAACTCAATGCAGTACAGCCACCA', 'CTTGGGCCCGCGGCAGGACCGAGGCGCCCTCAGGCGATTGAACGGACAATTTATTAGTAAGATCACCCTAGTACCAGACTACTGTAGCGCGACATTGGGG', 'GTTCCTGCCATAAGGGCCAATGGTCGCAGAGACACGCCAGTACTGACCTAGGTTAAACGGTTTTTTCAGAGAGCTTCATGACCGAGCTACGATGCTCAAC', 'GTCGACCATCGTGTGAAGTGAAAAATGGCTGCGGGCTCAGTCCGACTAGTTTCCAGGAGCGGTCTTAGGCTCGTCTAGCTCCCTAGCTTTAACTACAAGG', 'GAGGGTTACTGCACGGTCTATAATGTTTCGAGCCATTGTTCCCAGACTCTATAAAATCACCAGTTGCGGGATAAGTGGAACGCCGAAGCTGACAGGGCTT', 'ATTTTGGTATTCGAGCAACCCTCCAGACCTAACTTGTATAATCTCTGGGACCCAGCCCATGCCATACGGATACAGAAAAGGACTCCGGTGTACTAAATTT', 'TAGCCACAATGGTAAGACGTATGTTGATCTTACCCCCGCACTCATCTTAAACGAAGAGGAACGAACATCCCCGACCGTGCTCACATGTCCAGCTTGGCGG', 'CTCTTTATAATCCGGTATATCTGGACATAGGCCCCGTATTCCTGGTCAGATAGGGGGGGTGCCGGTTGATCTCATTAAGAAAAAATAGGAATGGCGCCCA', 'CCTAGCTCTACGTTGGCGTGTGAGCTTCATTGTGCTGTCCCATATCCATACCCAAGTCCCTGTATGCATAATAATAATACGAGGCCAGACCTGGTTGTTC', 'GCTGACAGTTCGCCCGAGCGAGTGAGTCGTGAGGTGCCATACATTTCTGTTCGTCTTGGATTCCGGTGATGAGTCTTCCCGAACTCTCAACATTTCACGG', 'CGCCGGCATAAACATTCTTCATGAAAGCCACTTCGGTATTTTCCGGGATAGGCGAGCTGTGTCCGCATCTGATTGGCGTGGGGTGCGTGAGACTCGAGTG', 'CGGGGACACTCAACGCGGGGGACTTAGTATGCCCCCTAAAAAGCGACGCCGGTGATCTCTGATGACTTACGCTAAGTTATAGACCCATGTACTAAGGAGT', 'ACTAGTCTAGTTACCTCTTTAGCGTAGCTGCATGCCATACATGCGGATGGTACCGGGAGTCTCAGAGACACAATGCTCGGTTACGCAACTAAGAGTTTAG', 'ATCCGAACACTCAGGCCAAGGAAAACCCCGCAGCTCCTATCAATAACGGAAGACGATCCAGATGCTCGTGGTACACCGTTGTAAAAGTGAGTCCGACATT', 'CCGGGAGGCCAATTTGTCCATGAAAAGGAACCGATGTTCTGTTATTTGTAAGGCCGTAGCATCAAAATTGTTATCATACCTAAGTGGGGATCTCTCAGTT', 'TTGGAGTTTTTGAGCCGAGCTCTAGGGCAAAATTGACTATATGACTCCCGTGCAAGAGGCGCACCGGAGAAACATGAAGAGCTACGGGGCGTTATCTTTA', 'ATCCCTTAAGTAGACGGCCAAGGCGCGATACATCCAGCGGGTGCCCGGCGTATTACCAAATAAATCGAAGATGGATATTCATCTAAAGTTTGCGCAGTTT', 'GCGTCACAAGATTTCTTAACAGGACGGGGACGCCTTTCGGTAGTCAGGTTTGAGTGTCAATATCAGCCGATCGGGTAGAACTTGCGGTGTCTCCTGAGAA', 'GAAAAGGGGGCACTGCATCTCTAGCAACGGCTTGTCCCCAATCGCCCCAGAAATTGTCTATATCTAAGGGTAAGTTAAGTAATTAAAGGAAGCCCATCTA', 'TAGTGTCAACATTGTGCACGCGCACATACCCGCGGTTCCCGACCCATTCAATCACATGGGAATCAGTGACCCTCCAAGTCGTCGGTGGTTGATACACTCG', 'AGTACCGAGTACGCAATGTGCGTACCTCTGATGTTCGATAACATAGTGTAACGCTCGGTATTGAGGAGGTGGCACTCTACTAACCTTCAGAGCACCCCGG', 'TGACCGAACTGTAGTTGAGGAGCTTCTACTCCGGGATATCGGTGGGATTTTATGGCATAAAATGTGAGAGACACATAAAGTAGCCCTATGGGGCCATGCG', 'TGTTGTCGTGAGGTTATAGTAGTCGCCCATAAAGAAACAAACTCTTCTGTAGATCGATCGCCTTACACAATAACCTCGACACCCCCAATCCCAATGTTTT', 'TAAGGTCATCAACCAATATAGGGCAGTCCGGTTTTTAGCTACGATCTTGAGCCATTTAATGTGGGAACGCGTACGATTCTATGAGATGCCCAGTGGGTAC', 'CTGAACTGTCCTTGGGATGATGCCTCTCGACAACGTTATTCCCATTGACCCTCTGGTACATCAGTAATAGATTAGGGGAGGATAGGCAGCACGGGCGACA', 'AGGAGAGCAGGTCTCTCCCGCGTTCTCTGGATGTGGGAATACATATGGAGTGGTCATAAATTTTGCGACACATGGTGACCCCACAAATACCAAAGAATAG', 'GTCCCTTGAAAAGGGTGCTGCAATCTAGGACGACCCAGGTGTTCGTAGTGCAAAGAAAGATATCGTAAATGGATGGGACCCGTAAGAGTCTAGCCTCCAT', 'CCCTCGTTCTTGCTCGGGTTATACGCGCCACAATTGTTTACTCTCTTCATTTAGTCTCGTCGATGCTCCTGCTATTACCCCTTGGGGGCGCTTGGAGGGC', 'CTAGGCAACAACGGGCCAGGTGCATTTTGTTCACGTCGTCCCACGTGCCTGACCTGATTCAACGCTATGCTCTGGGTACAGGTAAGGCACTCTGGATCTC', 'CAATAAGAAGCAATCACTATGTATTCTGTGTGCGCACGTTGGAATTGGATATCGTCCATCCCCACTGTTATCCTCGGCAAAGAAGGGTTACGATCGCTCA', 'TGAATTATTGATGCTCCGGCGTGAGAGCCTGGATTCTCTGATCCGAAGCCCACGCCTATCGGGCGCAAGCCACGTACCTGGTTAGAGCGCTTATCTGCGG']\n"
     ]
    }
   ],
   "source": [
    "y = []      #### generate 50 , 100 mer sequences \n",
    "for num in a:\n",
    "    z = dnaseq(100)\n",
    "    y.append(z)\n",
    "print(y)\n"
   ]
  },
  {
   "cell_type": "code",
   "execution_count": 42,
   "metadata": {},
   "outputs": [],
   "source": [
    "from Bio.Seq import Seq\n",
    "from Bio.Alphabet import IUPAC"
   ]
  },
  {
   "cell_type": "code",
   "execution_count": 43,
   "metadata": {},
   "outputs": [],
   "source": [
    "coding_dna = Seq(\"ATGGCCATTGTAATGGGCCGCTGAAAGGGTGCCCGATAG\", IUPAC.unambiguous_dna)\n"
   ]
  },
  {
   "cell_type": "code",
   "execution_count": 44,
   "metadata": {},
   "outputs": [
    {
     "data": {
      "text/plain": [
       "Seq('MAIVMGR*KGAR*', HasStopCodon(IUPACProtein(), '*'))"
      ]
     },
     "execution_count": 44,
     "metadata": {},
     "output_type": "execute_result"
    }
   ],
   "source": [
    "coding_dna.translate()"
   ]
  },
  {
   "cell_type": "code",
   "execution_count": 45,
   "metadata": {},
   "outputs": [
    {
     "name": "stderr",
     "output_type": "stream",
     "text": [
      "C:\\ProgramData\\Anaconda3\\lib\\site-packages\\Bio\\Seq.py:2609: BiopythonWarning: Partial codon, len(sequence) not a multiple of three. Explicitly trim the sequence or add trailing N before translation. This may become an error in future.\n",
      "  BiopythonWarning)\n"
     ]
    }
   ],
   "source": [
    "list_of_translated = []\n",
    "for seq in y:\n",
    "    codingdna = Seq(seq,IUPAC.unambiguous_dna )\n",
    "    translated = codingdna.translate()\n",
    "    list_of_translated.append(translated)"
   ]
  },
  {
   "cell_type": "code",
   "execution_count": 46,
   "metadata": {},
   "outputs": [
    {
     "data": {
      "text/plain": [
       "[Seq('WNLRGTRRYYILPAHDLIGIHKVSILKDL*ACF', HasStopCodon(IUPACProtein(), '*')),\n",
       " Seq('SPGLTKLSKKPRTWLTHCAPPGPGSE*AWGHLR', HasStopCodon(IUPACProtein(), '*')),\n",
       " Seq('*GRGRVQTMMAVLYCPWSYGFA*PSIAVNLTR*', HasStopCodon(IUPACProtein(), '*')),\n",
       " Seq('QTGYEIKFFNPGL*LAPFTSSKAIGEPRTSRGL', HasStopCodon(IUPACProtein(), '*')),\n",
       " Seq('ASVYPHQWTPSPRWFHCRACAWFSS*WPGIDRN', HasStopCodon(IUPACProtein(), '*')),\n",
       " Seq('ITILCVRHSGQRNPAVASVQMAWPLDSLKQVNC', IUPACProtein()),\n",
       " Seq('RLVAA*TTYHKAA*TT*ARFPHVSVRLRDAL*G', HasStopCodon(IUPACProtein(), '*')),\n",
       " Seq('NTSYC*WLDTTGHMCMPCYRAPNAIRRVFILSG', HasStopCodon(IUPACProtein(), '*')),\n",
       " Seq('SLSASKFTPWLYHHSFLLTQRL*SLAWGGVYTR', HasStopCodon(IUPACProtein(), '*')),\n",
       " Seq('AVTRMRFVGAGKGRRNS*PKHFWRNNYSRLSAH', HasStopCodon(IUPACProtein(), '*')),\n",
       " Seq('L*IEYYTVAAA*LFWGQQV*GWQENRILSRLLR', HasStopCodon(IUPACProtein(), '*')),\n",
       " Seq('RFEHLLLTHNSG*GAQVDDVDEDPRLSKLRPHV', HasStopCodon(IUPACProtein(), '*')),\n",
       " Seq('SHRVLVAIRDALR*RNTSSAARSHPQSFNAWGV', HasStopCodon(IUPACProtein(), '*')),\n",
       " Seq('IVGLVKSRLLSPHLVDIAALLTWRTGLRVIVHV', IUPACProtein()),\n",
       " Seq('GNSRLRRNTPKYA*ESAPNPVFRHAPRPSLVPL', HasStopCodon(IUPACProtein(), '*')),\n",
       " Seq('SGFITRNIRKQS*NHCSAMRGQSLSGAENTQVM', HasStopCodon(IUPACProtein(), '*')),\n",
       " Seq('LLGR*RILQYTFVHLRGQLHTGCRAPAGGLYVA', HasStopCodon(IUPACProtein(), '*')),\n",
       " Seq('QRSAEWHRQILTRPFFTKRRQQMRRPLTHCCC*', HasStopCodon(IUPACProtein(), '*')),\n",
       " Seq('LHDKDGH*VNCWGTVYRRHLGVYASVDAFYNPF', HasStopCodon(IUPACProtein(), '*')),\n",
       " Seq('HKMAIGVFLAVVLSKGSPKKHTLQILTQCSTAT', IUPACProtein()),\n",
       " Seq('LGPAAGPRRPQAIERTIY**DHPSTRLL*RDIG', HasStopCodon(IUPACProtein(), '*')),\n",
       " Seq('VPAIRANGRRDTPVLT*VKRFFQRAS*PSYDAQ', HasStopCodon(IUPACProtein(), '*')),\n",
       " Seq('VDHRVK*KMAAGSVRLVSRSGLRLV*LPSFNYK', HasStopCodon(IUPACProtein(), '*')),\n",
       " Seq('EGYCTVYNVSSHCSQTL*NHQLRDKWNAEADRA', HasStopCodon(IUPACProtein(), '*')),\n",
       " Seq('ILVFEQPSRPNLYNLWDPAHAIRIQKRTPVY*I', HasStopCodon(IUPACProtein(), '*')),\n",
       " Seq('*PQW*DVC*SYPRTHLKRRGTNIPDRAHMSSLA', HasStopCodon(IUPACProtein(), '*')),\n",
       " Seq('LFIIRYIWT*APYSWSDRGGAG*SH*EKIGMAP', HasStopCodon(IUPACProtein(), '*')),\n",
       " Seq('PSSTLACELHCAVPYPYPSPCMHNNNTRPDLVV', IUPACProtein()),\n",
       " Seq('ADSSPERVSREVPYISVRLGFR**VFPNSQHFT', HasStopCodon(IUPACProtein(), '*')),\n",
       " Seq('RRHKHSS*KPLRYFPG*ASCVRI*LAWGA*DSS', HasStopCodon(IUPACProtein(), '*')),\n",
       " Seq('RGHSTRGT*YAP*KATPVISDDLR*VIDPCTKE', HasStopCodon(IUPACProtein(), '*')),\n",
       " Seq('TSLVTSLA*LHAIHADGTGSLRDTMLGYATKSL', HasStopCodon(IUPACProtein(), '*')),\n",
       " Seq('IRTLRPRKTPQLLSITEDDPDARGTPL*K*VRH', HasStopCodon(IUPACProtein(), '*')),\n",
       " Seq('PGGQFVHEKEPMFCYL*GRSIKIVIIPKWGSLS', HasStopCodon(IUPACProtein(), '*')),\n",
       " Seq('LEFLSRALGQN*LYDSRARGAPEKHEELRGVIF', HasStopCodon(IUPACProtein(), '*')),\n",
       " Seq('IP*VDGQGAIHPAGARRITK*IEDGYSSKVCAV', HasStopCodon(IUPACProtein(), '*')),\n",
       " Seq('ASQDFLTGRGRLSVVRFECQYQPIG*NLRCLLR', HasStopCodon(IUPACProtein(), '*')),\n",
       " Seq('EKGALHL*QRLVPNRPRNCLYLRVS*VIKGSPS', HasStopCodon(IUPACProtein(), '*')),\n",
       " Seq('*CQHCARAHTRGSRPIQSHGNQ*PSKSSVVDTL', HasStopCodon(IUPACProtein(), '*')),\n",
       " Seq('STEYAMCVPLMFDNIV*RSVLRRWHSTNLQSTP', HasStopCodon(IUPACProtein(), '*')),\n",
       " Seq('*PNCS*GASTPGYRWDFMA*NVRDT*SSPMGPC', HasStopCodon(IUPACProtein(), '*')),\n",
       " Seq('CCREVIVVAHKETNSSVDRSPYTITSTPPIPMF', IUPACProtein()),\n",
       " Seq('*GHQPI*GSPVFSYDLEPFNVGTRTIL*DAQWV', HasStopCodon(IUPACProtein(), '*')),\n",
       " Seq('LNCPWDDASRQRYSH*PSGTSVID*GRIGSTGD', HasStopCodon(IUPACProtein(), '*')),\n",
       " Seq('RRAGLSRVLWMWEYIWSGHKFCDTW*PHKYQRI', HasStopCodon(IUPACProtein(), '*')),\n",
       " Seq('VP*KGCCNLGRPRCS*CKERYRKWMGPVRV*PP', HasStopCodon(IUPACProtein(), '*')),\n",
       " Seq('PSFLLGLYAPQLFTLFI*SRRCSCYYPLGALGG', HasStopCodon(IUPACProtein(), '*')),\n",
       " Seq('LGNNGPGAFCSRRPTCLT*FNAMLWVQVRHSGS', HasStopCodon(IUPACProtein(), '*')),\n",
       " Seq('Q*EAITMYSVCARWNWISSIPTVILGKEGLRSL', HasStopCodon(IUPACProtein(), '*')),\n",
       " Seq('*IIDAPA*EPGFSDPKPTPIGRKPRTWLERLSA', HasStopCodon(IUPACProtein(), '*'))]"
      ]
     },
     "execution_count": 46,
     "metadata": {},
     "output_type": "execute_result"
    }
   ],
   "source": [
    "list_of_translated"
   ]
  },
  {
   "cell_type": "code",
   "execution_count": 56,
   "metadata": {},
   "outputs": [],
   "source": [
    "list_trial = ['dKhGCGTGh','hnnGGWWnddWWGGdbWh','vTRATYGnATTA','TAATTARMTWW']\n",
    "\n",
    "\n",
    "\n"
   ]
  },
  {
   "cell_type": "code",
   "execution_count": 52,
   "metadata": {},
   "outputs": [],
   "source": [
    "trial_list = Seq(str(list_trial[:]))\n",
    "\n",
    "                 "
   ]
  },
  {
   "cell_type": "code",
   "execution_count": 53,
   "metadata": {},
   "outputs": [
    {
     "data": {
      "text/plain": [
       "Bio.Seq.Seq"
      ]
     },
     "execution_count": 53,
     "metadata": {},
     "output_type": "execute_result"
    }
   ],
   "source": [
    "type(trial_list)"
   ]
  },
  {
   "cell_type": "code",
   "execution_count": 55,
   "metadata": {},
   "outputs": [
    {
     "name": "stdout",
     "output_type": "stream",
     "text": [
      "['[', \"'\", 'W', 'R', 'G', 'T', 'R', 'R', 'Y', 'Y', 'A', 'G', 'K', 'K', 'A', 'C', \"'\", ',', ' ', 'C', 'd', 'n', 'A', 'C', 'n', ',', ' ', \"'\", \"'\", ',', ' ', \"'\", 'G', 'T', 'K', 'K', 'K', 'R', 'T', 'W', 'T', 'C', 'A', 'G', 'G', 'A', 'W', 'G', 'R', \"'\", ',', ' ', 'C', 'd', 'n', 'A', 'C', 'n', ',', ' ', \"'\", \"'\", ',', ' ', \"'\", 'G', 'R', 'G', 'R', 'T', 'M', 'M', 'A', 'Y', 'C', 'W', 'Y', 'G', 'A', 'A', 'T', 'R', \"'\", ',', ' ', 'C', 'd', 'n', 'A', 'C', 'n', ',', ' ', \"'\", \"'\", ',', ' ', \"'\", 'T', 'G', 'Y', 'K', 'G', 'A', 'T', 'K', 'A', 'G', 'R', 'T', 'R', 'G', \"'\", ',', ' ', 'C', 'd', 'n', 'A', 'C', 'n', ',', ' ', \"'\", \"'\", ',', ' ', \"'\", 'A', 'Y', 'W', 'T', 'R', 'W', 'C', 'R', 'A', 'C', 'A', 'W', 'W', 'G', 'R', \"'\", ',', ' ', 'C', 'd', 'n', 'A', 'C', 'n', ',', ' ', \"'\", \"'\", ',', ' ', \"'\", 'T', 'C', 'R', 'G', 'R', 'A', 'A', 'M', 'A', 'W', 'K', 'C', \"'\", ',', ' ', 'A', 'C', 'n', ',', ' ', \"'\", 'R', 'A', 'A', 'T', 'T', 'Y', 'K', 'A', 'A', 'T', 'T', 'A', 'R', 'R', 'R', 'A', 'G', \"'\", ',', ' ', 'C', 'd', 'n', 'A', 'C', 'n', ',', ' ', \"'\", \"'\", ',', ' ', \"'\", 'T', 'Y', 'C', 'W', 'T', 'T', 'G', 'M', 'C', 'M', 'C', 'Y', 'R', 'A', 'A', 'R', 'R', 'G', \"'\", ',', ' ', 'C', 'd', 'n', 'A', 'C', 'n', ',', ' ', \"'\", \"'\", ',', ' ', \"'\", 'A', 'K', 'T', 'W', 'Y', 'T', 'R', 'A', 'W', 'G', 'G', 'Y', 'T', 'R', \"'\", ',', ' ', 'C', 'd', 'n', 'A', 'C', 'n', ',', ' ', \"'\", \"'\", ',', ' ', \"'\", 'A', 'T', 'R', 'M', 'R', 'G', 'A', 'G', 'K', 'G', 'R', 'R', 'K', 'W', 'R', 'Y', 'R', 'A', \"'\", ',', ' ', 'C', 'd', 'n', 'A', 'C', 'n', ',', ' ', \"'\", \"'\", ',', ' ', \"'\", 'Y', 'Y', 'T', 'A', 'A', 'A', 'W', 'G', 'G', 'W', 'R', 'R', 'R', \"'\", ',', ' ', 'C', 'd', 'n', 'A', 'C', 'n', ',', ' ', \"'\", \"'\", ',', ' ', \"'\", 'R', 'T', 'G', 'G', 'A', 'R', 'K', 'R', \"'\", ',', ' ', 'C', 'd', 'n', 'A', 'C', 'n', ',', ' ', \"'\", \"'\", ',', ' ', \"'\", 'R', 'A', 'R', 'A', 'R', 'R', 'T', 'A', 'A', 'R', 'A', 'W', 'G', \"'\", ',', ' ', 'C', 'd', 'n', 'A', 'C', 'n', ',', ' ', \"'\", \"'\", ',', ' ', \"'\", 'G', 'K', 'R', 'A', 'A', 'T', 'W', 'R', 'T', 'G', 'R', \"'\", ',', ' ', 'A', 'C', 'n', ',', ' ', \"'\", 'G', 'R', 'R', 'R', 'T', 'K', 'Y', 'A', 'A', 'R', 'A', 'R', \"'\", ',', ' ', 'C', 'd', 'n', 'A', 'C', 'n', ',', ' ', \"'\", \"'\", ',', ' ', \"'\", 'G', 'T', 'R', 'R', 'K', 'C', 'A', 'M', 'R', 'G', 'G', 'A', 'T', 'M', \"'\", ',', ' ', 'C', 'd', 'n', 'A', 'C', 'n', ',', ' ', \"'\", \"'\", ',', ' ', \"'\", 'G', 'R', 'R', 'Y', 'T', 'R', 'G', 'T', 'G', 'C', 'R', 'A', 'A', 'G', 'G', 'Y', 'A', \"'\", ',', ' ', 'C', 'd', 'n', 'A', 'C', 'n', ',', ' ', \"'\", \"'\", ',', ' ', \"'\", 'R', 'A', 'W', 'R', 'T', 'R', 'T', 'K', 'R', 'R', 'M', 'R', 'R', 'T', 'C', 'C', 'C', \"'\", ',', ' ', 'C', 'd', 'n', 'A', 'C', 'n', ',', ' ', \"'\", \"'\", ',', ' ', \"'\", 'K', 'G', 'C', 'W', 'G', 'T', 'Y', 'R', 'R', 'G', 'Y', 'A', 'A', 'Y', \"'\", ',', ' ', 'C', 'd', 'n', 'A', 'C', 'n', ',', ' ', \"'\", \"'\", ',', ' ', \"'\", 'K', 'M', 'A', 'G', 'A', 'K', 'G', 'K', 'K', 'T', 'T', 'C', 'T', 'A', 'T', \"'\", ',', ' ', 'A', 'C', 'n', ',', ' ', \"'\", 'G', 'A', 'A', 'G', 'R', 'R', 'A', 'R', 'T', 'Y', 'T', 'R', 'R', 'G', \"'\", ',', ' ', 'C', 'd', 'n', 'A', 'C', 'n', ',', ' ', \"'\", \"'\", ',', ' ', \"'\", 'A', 'R', 'A', 'G', 'R', 'R', 'T', 'T', 'K', 'R', 'R', 'A', 'Y', 'A', \"'\", ',', ' ', 'C', 'd', 'n', 'A', 'C', 'n', ',', ' ', \"'\", \"'\", ',', ' ', \"'\", 'R', 'K', 'K', 'M', 'A', 'A', 'G', 'R', 'R', 'G', 'R', 'Y', 'K', \"'\", ',', ' ', 'C', 'd', 'n', 'A', 'C', 'n', ',', ' ', \"'\", \"'\", ',', ' ', \"'\", 'G', 'Y', 'C', 'T', 'Y', 'C', 'T', 'R', 'K', 'W', 'A', 'A', 'R', 'A', \"'\", ',', ' ', 'C', 'd', 'n', 'A', 'C', 'n', ',', ' ', \"'\", \"'\", ',', ' ', \"'\", 'R', 'Y', 'W', 'A', 'A', 'R', 'K', 'R', 'T', 'Y', \"'\", ',', ' ', 'C', 'd', 'n', 'A', 'C', 'n', ',', ' ', \"'\", \"'\", ',', ' ', \"'\", 'W', 'C', 'Y', 'R', 'T', 'K', 'R', 'R', 'G', 'T', 'R', 'A', 'M', 'A', \"'\", ',', ' ', 'C', 'd', 'n', 'A', 'C', 'n', ',', ' ', \"'\", \"'\", ',', ' ', \"'\", 'R', 'Y', 'W', 'T', 'A', 'Y', 'W', 'R', 'G', 'G', 'A', 'G', 'K', 'G', 'M', 'A', \"'\", ',', ' ', 'C', 'd', 'n', 'A', 'C', 'n', ',', ' ', \"'\", \"'\", ',', ' ', \"'\", 'T', 'A', 'C', 'C', 'A', 'Y', 'Y', 'C', 'M', 'T', 'R', \"'\", ',', ' ', 'A', 'C', 'n', ',', ' ', \"'\", 'A', 'R', 'R', 'Y', 'R', 'G', 'R', 'T', \"'\", ',', ' ', 'C', 'd', 'n', 'A', 'C', 'n', ',', ' ', \"'\", \"'\", ',', ' ', \"'\", 'R', 'R', 'K', 'K', 'R', 'Y', 'G', 'A', 'C', 'R', 'A', 'W', 'G', 'A', \"'\", ',', ' ', 'C', 'd', 'n', 'A', 'C', 'n', ',', ' ', \"'\", \"'\", ',', ' ', \"'\", 'R', 'G', 'T', 'R', 'G', 'T', 'Y', 'A', 'K', 'A', 'T', 'R', 'C', 'T', 'K', \"'\", ',', ' ', 'C', 'd', 'n', 'A', 'C', 'n', ',', ' ', \"'\", \"'\", ',', ' ', \"'\", 'T', 'T', 'A', 'A', 'A', 'G', 'T', 'G', 'R', 'T', 'M', 'G', 'Y', 'A', 'T', 'K', \"'\", ',', ' ', 'C', 'd', 'n', 'A', 'C', 'n', ',', ' ', \"'\", \"'\", ',', ' ', \"'\", 'R', 'T', 'R', 'R', 'K', 'T', 'T', 'A', 'R', 'G', 'T', 'K', 'R', \"'\", ',', ' ', 'C', 'd', 'n', 'A', 'C', 'n', ',', ' ', \"'\", \"'\", ',', ' ', \"'\", 'G', 'G', 'K', 'M', 'C', 'Y', 'G', 'R', 'K', 'K', 'W', 'G', \"'\", ',', ' ', 'C', 'd', 'n', 'A', 'C', 'n', ',', ' ', \"'\", \"'\", ',', ' ', \"'\", 'R', 'A', 'G', 'Y', 'R', 'A', 'R', 'G', 'A', 'K', 'R', 'G', \"'\", ',', ' ', 'C', 'd', 'n', 'A', 'C', 'n', ',', ' ', \"'\", \"'\", ',', ' ', \"'\", 'G', 'G', 'A', 'A', 'G', 'A', 'R', 'R', 'T', 'K', 'G', 'Y', 'K', 'C', 'A', \"'\", ',', ' ', 'C', 'd', 'n', 'A', 'C', 'n', ',', ' ', \"'\", \"'\", ',', ' ', \"'\", 'A', 'T', 'G', 'R', 'G', 'R', 'R', 'C', 'Y', 'G', 'R', 'C', 'R', \"'\", ',', ' ', 'C', 'd', 'n', 'A', 'C', 'n', ',', ' ', \"'\", \"'\", ',', ' ', \"'\", 'K', 'G', 'A', 'R', 'R', 'R', 'C', 'Y', 'R', 'K', 'G', \"'\", ',', ' ', 'C', 'd', 'n', 'A', 'C', 'n', ',', ' ', \"'\", \"'\", ',', ' ', \"'\", 'C', 'C', 'A', 'R', 'A', 'T', 'R', 'G', 'R', 'G', 'K', 'T', \"'\", ',', ' ', 'C', 'd', 'n', 'A', 'C', 'n', ',', ' ', \"'\", \"'\", ',', ' ', \"'\", 'T', 'Y', 'A', 'M', 'C', 'M', 'R', 'R', 'R', 'W', 'T', 'T', \"'\", ',', ' ', 'C', 'd', 'n', 'A', 'C', 'n', ',', ' ', \"'\", \"'\", ',', ' ', \"'\", 'C', 'G', 'A', 'T', 'G', 'Y', 'R', 'W', 'M', 'A', 'R', 'T', 'M', 'G', 'C', \"'\", ',', ' ', 'C', 'd', 'n', 'A', 'C', 'n', ',', ' ', \"'\", \"'\", ',', ' ', \"'\", 'C', 'C', 'R', 'A', 'K', 'T', 'R', 'Y', 'T', 'T', 'T', 'M', \"'\", ',', ' ', 'A', 'C', 'n', ',', ' ', \"'\", 'G', 'G', 'Y', 'G', 'T', 'R', 'T', 'A', 'W', \"'\", ',', ' ', 'C', 'd', 'n', 'A', 'C', 'n', ',', ' ', \"'\", \"'\", ',', ' ', \"'\", 'C', 'W', 'A', 'R', 'R', 'Y', 'G', 'T', 'G', 'R', 'G', 'T', 'G', \"'\", ',', ' ', 'C', 'd', 'n', 'A', 'C', 'n', ',', ' ', \"'\", \"'\", ',', ' ', \"'\", 'R', 'R', 'A', 'G', 'R', 'W', 'M', 'W', 'Y', 'W', 'G', 'K', 'C', 'T', 'W', 'K', 'Y', 'R', \"'\", ',', ' ', 'C', 'd', 'n', 'A', 'C', 'n', ',', ' ', \"'\", \"'\", ',', ' ', \"'\", 'K', 'G', 'C', 'C', 'G', 'R', 'R', 'C', 'C', 'K', 'R', 'Y', 'R', 'K', 'W', 'M', 'G', 'R', \"'\", ',', ' ', 'C', 'd', 'n', 'A', 'C', 'n', ',', ' ', \"'\", \"'\", ',', ' ', \"'\", 'G', 'Y', 'A', 'T', 'R', 'R', 'C', 'C', 'Y', 'Y', 'G', 'A', 'G', 'G', \"'\", ',', ' ', 'C', 'd', 'n', 'A', 'C', 'n', ',', ' ', \"'\", \"'\", ',', ' ', \"'\", 'G', 'G', 'G', 'A', 'C', 'R', 'R', 'T', 'C', 'T', 'A', 'M', 'W', 'R', 'G', \"'\", ',', ' ', 'C', 'd', 'n', 'A', 'C', 'n', ',', ' ', \"'\", \"'\", ',', ' ', \"'\", 'A', 'T', 'M', 'Y', 'C', 'A', 'R', 'W', 'W', 'T', 'G', 'K', 'G', 'R', \"'\", ',', ' ', 'C', 'd', 'n', 'A', 'C', 'n', ',', ' ', \"'\", \"'\", ',', ' ', \"'\", 'A', 'A', 'G', 'K', 'T', 'G', 'R', 'K', 'R', 'T', 'W', 'R', 'A', \"'\", ',', ' ', 'C', 'd', 'n', 'A', 'C', 'n', ',', ' ', \"'\", \"'\", ']']\n"
     ]
    }
   ],
   "source": [
    "jVal = \"|\".join(str(trial_list))    \n",
    "\n",
    "print([i for i in str(list_of_translated) if i in jVal ])\n"
   ]
  },
  {
   "cell_type": "code",
   "execution_count": null,
   "metadata": {},
   "outputs": [],
   "source": []
  }
 ],
 "metadata": {
  "kernelspec": {
   "display_name": "Python 3",
   "language": "python",
   "name": "python3"
  },
  "language_info": {
   "codemirror_mode": {
    "name": "ipython",
    "version": 3
   },
   "file_extension": ".py",
   "mimetype": "text/x-python",
   "name": "python",
   "nbconvert_exporter": "python",
   "pygments_lexer": "ipython3",
   "version": "3.6.4"
  }
 },
 "nbformat": 4,
 "nbformat_minor": 2
}
